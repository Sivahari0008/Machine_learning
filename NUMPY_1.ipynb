{
 "cells": [
  {
   "cell_type": "code",
   "execution_count": 1,
   "id": "2b080e9a",
   "metadata": {},
   "outputs": [
    {
     "name": "stdout",
     "output_type": "stream",
     "text": [
      "[[1 2 3]\n",
      " [4 5 6]]\n"
     ]
    }
   ],
   "source": [
    "import numpy as np\n",
    "\n",
    "arr = np.array([[1,2,3],[4,5,6]])\n",
    "print(arr)"
   ]
  },
  {
   "cell_type": "code",
   "execution_count": 2,
   "id": "b58ffd1f",
   "metadata": {},
   "outputs": [
    {
     "name": "stdout",
     "output_type": "stream",
     "text": [
      "array([[1., 2., 3.],\n",
      "       [4., 5., 6.]], dtype=float32)\n"
     ]
    }
   ],
   "source": [
    "arr = np.array([[1,2,3],[4,5,6]],dtype=np.float32)\n",
    "print(repr(arr))"
   ]
  },
  {
   "cell_type": "code",
   "execution_count": 3,
   "id": "3597cbf0",
   "metadata": {},
   "outputs": [
    {
     "name": "stdout",
     "output_type": "stream",
     "text": [
      "[0 1 2 3 4 5]\n"
     ]
    }
   ],
   "source": [
    "arr = np.arange(6)\n",
    "print(arr)"
   ]
  },
  {
   "cell_type": "code",
   "execution_count": 4,
   "id": "2c0f3b5f",
   "metadata": {},
   "outputs": [
    {
     "name": "stdout",
     "output_type": "stream",
     "text": [
      "[1 3 5 7]\n"
     ]
    }
   ],
   "source": [
    "arr = np.arange(1,9,2)#(start,stop,increment)\n",
    "print(arr)"
   ]
  },
  {
   "cell_type": "code",
   "execution_count": 5,
   "id": "d4eede24",
   "metadata": {},
   "outputs": [
    {
     "name": "stdout",
     "output_type": "stream",
     "text": [
      "array([1. , 2.6, 4.2, 5.8, 7.4])\n"
     ]
    }
   ],
   "source": [
    "arr = np.linspace(1,9, num = 5,endpoint = False)\n",
    "print(repr(arr))"
   ]
  },
  {
   "cell_type": "code",
   "execution_count": 6,
   "id": "d9ead030",
   "metadata": {},
   "outputs": [
    {
     "name": "stdout",
     "output_type": "stream",
     "text": [
      "[[1 2 3]\n",
      " [4 5 6]\n",
      " [7 8 9]]\n"
     ]
    }
   ],
   "source": [
    "arr = np.arange(1,10)\n",
    "reshape = np.reshape(arr,(3,3))\n",
    "print(reshape)"
   ]
  },
  {
   "cell_type": "code",
   "execution_count": 7,
   "id": "8574e232",
   "metadata": {},
   "outputs": [
    {
     "name": "stdout",
     "output_type": "stream",
     "text": [
      "new shape: (3, 3)\n"
     ]
    }
   ],
   "source": [
    "print(\"new shape: {}\".format(reshape.shape))"
   ]
  },
  {
   "cell_type": "code",
   "execution_count": 8,
   "id": "2747f14d",
   "metadata": {},
   "outputs": [
    {
     "name": "stdout",
     "output_type": "stream",
     "text": [
      "[[[0 1]\n",
      "  [2 3]]\n",
      "\n",
      " [[4 5]\n",
      "  [6 7]]]\n"
     ]
    }
   ],
   "source": [
    "arr = np.arange(8)\n",
    "reshape = np.reshape(arr,(2,2,2))\n",
    "print(reshape)"
   ]
  },
  {
   "cell_type": "code",
   "execution_count": 9,
   "id": "81858e1c",
   "metadata": {},
   "outputs": [
    {
     "name": "stdout",
     "output_type": "stream",
     "text": [
      "[1 2 3 4 5 6 7 8 9]\n"
     ]
    }
   ],
   "source": [
    "arr = np.arange(1,10)\n",
    "reshape = np.reshape(arr,(3,3))\n",
    "flat = arr.flatten()\n",
    "print(flat)"
   ]
  },
  {
   "cell_type": "code",
   "execution_count": 10,
   "id": "5ecd857c",
   "metadata": {},
   "outputs": [
    {
     "name": "stdout",
     "output_type": "stream",
     "text": [
      "array([[0, 1],\n",
      "       [2, 3],\n",
      "       [4, 5],\n",
      "       [6, 7]])\n",
      "arr shape: (4, 2)\n",
      "array([[0, 2, 4, 6],\n",
      "       [1, 3, 5, 7]])\n",
      "transposed shape: (2, 4)\n"
     ]
    }
   ],
   "source": [
    "arr = np.arange(8)\n",
    "arr = np.reshape(arr, (4, 2))\n",
    "transposed = np.transpose(arr)\n",
    "print(repr(arr))\n",
    "print('arr shape: {}'.format(arr.shape))\n",
    "print(repr(transposed))\n",
    "print('transposed shape: {}'.format(transposed.shape))"
   ]
  },
  {
   "cell_type": "code",
   "execution_count": null,
   "id": "acc00ede",
   "metadata": {},
   "outputs": [],
   "source": [
    "arr = np.zeros(6)\n",
    "print(arr)\n",
    "\n",
    "arr = np.ones((2, 3))\n",
    "print(repr(arr))\n",
    "\n",
    "arr = np.ones((5, 8), dtype=np.int32)\n",
    "print(repr(arr))"
   ]
  },
  {
   "cell_type": "code",
   "execution_count": null,
   "id": "761f22f6",
   "metadata": {},
   "outputs": [],
   "source": [
    "arr1 = np.array([6,5, 3])\n",
    "arr2 = np.array([-7, 0, 17])\n",
    "print(np.matmul(arr1, arr2))\n",
    "\n",
    "arr3 = np.array([[1, 2], [3, 4], [5, 6]])\n",
    "arr4 = np.array([[-1, 0, 1], [3, 2, -4]])\n",
    "print(repr(np.matmul(arr3, arr4)))"
   ]
  },
  {
   "cell_type": "code",
   "execution_count": null,
   "id": "4cdf982e",
   "metadata": {},
   "outputs": [],
   "source": [
    "arr = np.arange(9)\n",
    "reshape = np.reshape(arr,(3,3))\n",
    "print(np.mean(reshape))\n",
    "print(np.var(reshape))\n",
    "print(np.median(reshape))\n",
    "print(repr(np.median(reshape, axis=-1)))"
   ]
  },
  {
   "cell_type": "code",
   "execution_count": null,
   "id": "69ac6c66",
   "metadata": {},
   "outputs": [],
   "source": [
    "import random\n",
    "\n",
    "arr = np.random.randint(9)\n",
    "print(arr)"
   ]
  },
  {
   "cell_type": "code",
   "execution_count": null,
   "id": "0276ca1d",
   "metadata": {},
   "outputs": [],
   "source": [
    "import panda\n"
   ]
  },
  {
   "cell_type": "code",
   "execution_count": null,
   "id": "728301a8",
   "metadata": {},
   "outputs": [],
   "source": []
  }
 ],
 "metadata": {
  "kernelspec": {
   "display_name": "Python 3",
   "language": "python",
   "name": "python3"
  },
  "language_info": {
   "codemirror_mode": {
    "name": "ipython",
    "version": 3
   },
   "file_extension": ".py",
   "mimetype": "text/x-python",
   "name": "python",
   "nbconvert_exporter": "python",
   "pygments_lexer": "ipython3",
   "version": "3.6.13"
  }
 },
 "nbformat": 4,
 "nbformat_minor": 5
}
